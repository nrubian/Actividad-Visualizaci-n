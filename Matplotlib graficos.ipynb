{
 "cells": [
  {
   "cell_type": "code",
   "execution_count": 1,
   "id": "c64fb6e1",
   "metadata": {},
   "outputs": [],
   "source": [
    "import pandas as pd"
   ]
  },
  {
   "cell_type": "code",
   "execution_count": 2,
   "id": "a5928f56",
   "metadata": {},
   "outputs": [],
   "source": [
    "df = pd.read_csv (\"df_mineria_para_visualizacion.csv \", sep = \",\")\n"
   ]
  },
  {
   "cell_type": "code",
   "execution_count": 3,
   "id": "999ef956",
   "metadata": {},
   "outputs": [
    {
     "data": {
      "text/html": [
       "<div>\n",
       "<style scoped>\n",
       "    .dataframe tbody tr th:only-of-type {\n",
       "        vertical-align: middle;\n",
       "    }\n",
       "\n",
       "    .dataframe tbody tr th {\n",
       "        vertical-align: top;\n",
       "    }\n",
       "\n",
       "    .dataframe thead th {\n",
       "        text-align: right;\n",
       "    }\n",
       "</style>\n",
       "<table border=\"1\" class=\"dataframe\">\n",
       "  <thead>\n",
       "    <tr style=\"text-align: right;\">\n",
       "      <th></th>\n",
       "      <th>ESTU_NACIONALIDAD</th>\n",
       "      <th>ESTU_GENERO</th>\n",
       "      <th>ESTU_TIENEETNIA</th>\n",
       "      <th>ESTU_PAIS_RESIDE</th>\n",
       "      <th>ESTU_DEPTO_RESIDE</th>\n",
       "      <th>ESTU_MCPIO_RESIDE</th>\n",
       "      <th>FAMI_ESTRATOVIVIENDA</th>\n",
       "      <th>FAMI_PERSONASHOGAR</th>\n",
       "      <th>FAMI_CUARTOSHOGAR</th>\n",
       "      <th>FAMI_EDUCACIONPADRE</th>\n",
       "      <th>...</th>\n",
       "      <th>PUNT_LECTURA_CRITICA</th>\n",
       "      <th>PUNT_MATEMATICAS</th>\n",
       "      <th>PUNT_C_NATURALES</th>\n",
       "      <th>PUNT_SOCIALES_CIUDADANAS</th>\n",
       "      <th>PUNT_INGLES</th>\n",
       "      <th>PUNT_GLOBAL</th>\n",
       "      <th>edad</th>\n",
       "      <th>Estu_trabaja</th>\n",
       "      <th>Colegio_vivienda_mismo_MCPIO</th>\n",
       "      <th>clasificación_global</th>\n",
       "    </tr>\n",
       "  </thead>\n",
       "  <tbody>\n",
       "    <tr>\n",
       "      <th>0</th>\n",
       "      <td>COLOMBIA</td>\n",
       "      <td>M</td>\n",
       "      <td>No</td>\n",
       "      <td>COLOMBIA</td>\n",
       "      <td>MAGDALENA</td>\n",
       "      <td>SANTA ANA</td>\n",
       "      <td>Estrato 3</td>\n",
       "      <td>5 a 6</td>\n",
       "      <td>Cinco</td>\n",
       "      <td>Educación profesional completa</td>\n",
       "      <td>...</td>\n",
       "      <td>47</td>\n",
       "      <td>48</td>\n",
       "      <td>37</td>\n",
       "      <td>30</td>\n",
       "      <td>54.0</td>\n",
       "      <td>208</td>\n",
       "      <td>17</td>\n",
       "      <td>SI</td>\n",
       "      <td>Mismo Municipio</td>\n",
       "      <td>No Aplica Beca</td>\n",
       "    </tr>\n",
       "    <tr>\n",
       "      <th>1</th>\n",
       "      <td>COLOMBIA</td>\n",
       "      <td>M</td>\n",
       "      <td>No</td>\n",
       "      <td>COLOMBIA</td>\n",
       "      <td>BOGOTÁ</td>\n",
       "      <td>BOGOTÁ D.C.</td>\n",
       "      <td>Estrato 3</td>\n",
       "      <td>9 o más</td>\n",
       "      <td>Tres</td>\n",
       "      <td>Técnica o tecnológica completa</td>\n",
       "      <td>...</td>\n",
       "      <td>60</td>\n",
       "      <td>65</td>\n",
       "      <td>54</td>\n",
       "      <td>59</td>\n",
       "      <td>63.0</td>\n",
       "      <td>299</td>\n",
       "      <td>16</td>\n",
       "      <td>SI</td>\n",
       "      <td>Mismo Municipio</td>\n",
       "      <td>No Aplica Beca</td>\n",
       "    </tr>\n",
       "  </tbody>\n",
       "</table>\n",
       "<p>2 rows × 47 columns</p>\n",
       "</div>"
      ],
      "text/plain": [
       "  ESTU_NACIONALIDAD ESTU_GENERO ESTU_TIENEETNIA ESTU_PAIS_RESIDE  \\\n",
       "0          COLOMBIA           M              No         COLOMBIA   \n",
       "1          COLOMBIA           M              No         COLOMBIA   \n",
       "\n",
       "  ESTU_DEPTO_RESIDE ESTU_MCPIO_RESIDE FAMI_ESTRATOVIVIENDA FAMI_PERSONASHOGAR  \\\n",
       "0         MAGDALENA         SANTA ANA            Estrato 3              5 a 6   \n",
       "1            BOGOTÁ       BOGOTÁ D.C.            Estrato 3            9 o más   \n",
       "\n",
       "  FAMI_CUARTOSHOGAR             FAMI_EDUCACIONPADRE  ... PUNT_LECTURA_CRITICA  \\\n",
       "0             Cinco  Educación profesional completa  ...                   47   \n",
       "1              Tres  Técnica o tecnológica completa  ...                   60   \n",
       "\n",
       "  PUNT_MATEMATICAS PUNT_C_NATURALES PUNT_SOCIALES_CIUDADANAS PUNT_INGLES  \\\n",
       "0               48               37                       30        54.0   \n",
       "1               65               54                       59        63.0   \n",
       "\n",
       "  PUNT_GLOBAL edad Estu_trabaja Colegio_vivienda_mismo_MCPIO  \\\n",
       "0         208   17           SI              Mismo Municipio   \n",
       "1         299   16           SI              Mismo Municipio   \n",
       "\n",
       "  clasificación_global  \n",
       "0       No Aplica Beca  \n",
       "1       No Aplica Beca  \n",
       "\n",
       "[2 rows x 47 columns]"
      ]
     },
     "execution_count": 3,
     "metadata": {},
     "output_type": "execute_result"
    }
   ],
   "source": [
    "df.head(2)"
   ]
  },
  {
   "cell_type": "code",
   "execution_count": 4,
   "id": "9865c5af",
   "metadata": {},
   "outputs": [
    {
     "data": {
      "image/png": "[encoded data removed]",
      "text/plain": [
       "<Figure size 576x396 with 1 Axes>"
      ]
     },
     "metadata": {},
     "output_type": "display_data"
    }
   ],
   "source": [
    "import matplotlib.pyplot as plt\n",
    "import numpy as np\n",
    "\n",
    "# Datos para el histograma\n",
    "datos = df[\"PUNT_GLOBAL\"]\n",
    "\n",
    "\n",
    "# Configuración de estilo\n",
    "plt.style.use('seaborn')\n",
    "plt.rcParams['font.family'] = 'serif'\n",
    "\n",
    "# Crear el histograma\n",
    "n, bins, patches = plt.hist(datos, bins=30, alpha=0.7, color='green', edgecolor='black')\n",
    "\n",
    "# Colorear las barras según su altura con un degradado\n",
    "for i in range(len(patches)):\n",
    "    patch = patches[i]\n",
    "    color = (1.0 - i/len(patches), 0.0, i/len(patches))\n",
    "    patch.set_facecolor(color)\n",
    "\n",
    "# Establecer los títulos de los ejes y del histograma\n",
    "plt.xlabel('Valor', fontsize=12)\n",
    "plt.ylabel('Frecuencia', fontsize=12)\n",
    "plt.title('Histograma de datos', fontsize=14)\n",
    "\n",
    "# Añadir una línea vertical en la media\n",
    "media = np.mean(datos)\n",
    "plt.axvline(media, color='red', linestyle='--', label='Media')\n",
    "\n",
    "# Mostrar el histograma\n",
    "plt.legend()\n",
    "plt.show()"
   ]
  },
  {
   "cell_type": "code",
   "execution_count": 6,
   "id": "363fa2ff",
   "metadata": {},
   "outputs": [
    {
     "data": {
      "image/png": "[encoded data removed]",
      "text/plain": [
       "<Figure size 576x396 with 1 Axes>"
      ]
     },
     "metadata": {},
     "output_type": "display_data"
    }
   ],
   "source": [
    "import matplotlib.pyplot as plt\n",
    "import numpy as np\n",
    "\n",
    "# Datos para el histograma\n",
    "datos = df[\"PUNT_LECTURA_CRITICA\"]\n",
    "\n",
    "\n",
    "# Configuración de estilo\n",
    "plt.style.use('seaborn')\n",
    "plt.rcParams['font.family'] = 'serif'\n",
    "\n",
    "# Crear el histograma\n",
    "n, bins, patches = plt.hist(datos, bins=30, alpha=0.7, color='green', edgecolor='black')\n",
    "\n",
    "# Colorear las barras según su altura con un degradado\n",
    "for i in range(len(patches)):\n",
    "    patch = patches[i]\n",
    "    color = (1.0 - i/len(patches), 0.0, i/len(patches))\n",
    "    patch.set_facecolor(color)\n",
    "\n",
    "# Establecer los títulos de los ejes y del histograma\n",
    "plt.xlabel('Valor', fontsize=12)\n",
    "plt.ylabel('Frecuencia', fontsize=12)\n",
    "plt.title('Histograma de datos', fontsize=14)\n",
    "\n",
    "# Añadir una línea vertical en la media\n",
    "media = np.mean(datos)\n",
    "plt.axvline(media, color='red', linestyle='--', label='Media')\n",
    "\n",
    "# Mostrar el histograma\n",
    "plt.legend()\n",
    "plt.show()"
   ]
  },
  {
   "cell_type": "code",
   "execution_count": null,
   "id": "2fb4a1cd",
   "metadata": {},
   "outputs": [],
   "source": []
  }
 ],
 "metadata": {
  "kernelspec": {
   "display_name": "Python 3 (ipykernel)",
   "language": "python",
   "name": "python3"
  },
  "language_info": {
   "codemirror_mode": {
    "name": "ipython",
    "version": 3
   },
   "file_extension": ".py",
   "mimetype": "text/x-python",
   "name": "python",
   "nbconvert_exporter": "python",
   "pygments_lexer": "ipython3",
   "version": "3.9.7"
  }
 },
 "nbformat": 4,
 "nbformat_minor": 5
}
